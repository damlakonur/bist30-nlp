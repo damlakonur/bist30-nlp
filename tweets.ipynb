{
 "cells": [
  {
   "cell_type": "code",
   "execution_count": 1,
   "metadata": {},
   "outputs": [
    {
     "ename": "",
     "evalue": "",
     "output_type": "error",
     "traceback": [
      "\u001b[1;31mCanceled future for execute_request message before replies were done"
     ]
    },
    {
     "ename": "",
     "evalue": "",
     "output_type": "error",
     "traceback": [
      "\u001b[1;31mThe Kernel crashed while executing code in the the current cell or a previous cell. Please review the code in the cell(s) to identify a possible cause of the failure. Click <a href='https://aka.ms/vscodeJupyterKernelCrash'>here</a> for more info. View Jupyter <a href='command:jupyter.viewOutput'>log</a> for further details."
     ]
    }
   ],
   "source": [
    "import pandas as pd \n",
    "import numpy as np\n",
    "import matplotlib.pyplot as plt\n",
    "import torch"
   ]
  },
  {
   "cell_type": "code",
   "execution_count": null,
   "metadata": {},
   "outputs": [
    {
     "data": {
      "text/html": [
       "<div>\n",
       "<style scoped>\n",
       "    .dataframe tbody tr th:only-of-type {\n",
       "        vertical-align: middle;\n",
       "    }\n",
       "\n",
       "    .dataframe tbody tr th {\n",
       "        vertical-align: top;\n",
       "    }\n",
       "\n",
       "    .dataframe thead th {\n",
       "        text-align: right;\n",
       "    }\n",
       "</style>\n",
       "<table border=\"1\" class=\"dataframe\">\n",
       "  <thead>\n",
       "    <tr style=\"text-align: right;\">\n",
       "      <th></th>\n",
       "      <th>date</th>\n",
       "      <th>user</th>\n",
       "      <th>tweet</th>\n",
       "      <th>rt</th>\n",
       "      <th>fav</th>\n",
       "      <th>followers</th>\n",
       "      <th>verified</th>\n",
       "    </tr>\n",
       "  </thead>\n",
       "  <tbody>\n",
       "    <tr>\n",
       "      <th>0</th>\n",
       "      <td>2022-07-11 22:59:23+00:00</td>\n",
       "      <td>uurnikbay__</td>\n",
       "      <td>Ben mart-nisan 2023 ayında #EREGL  de 44 tl fi...</td>\n",
       "      <td>0</td>\n",
       "      <td>2</td>\n",
       "      <td>1</td>\n",
       "      <td>False</td>\n",
       "    </tr>\n",
       "    <tr>\n",
       "      <th>1</th>\n",
       "      <td>2022-07-11 22:57:45+00:00</td>\n",
       "      <td>uurnikbay__</td>\n",
       "      <td>#EREGL yaklaşık 4000 bin lotla\\n#TURSG yaklaşı...</td>\n",
       "      <td>0</td>\n",
       "      <td>2</td>\n",
       "      <td>1</td>\n",
       "      <td>False</td>\n",
       "    </tr>\n",
       "    <tr>\n",
       "      <th>2</th>\n",
       "      <td>2022-07-11 22:57:25+00:00</td>\n",
       "      <td>bogachanbilge</td>\n",
       "      <td>#sasa #bist fettöşçüler, bulaşıklığı olanlar, ...</td>\n",
       "      <td>7</td>\n",
       "      <td>274</td>\n",
       "      <td>19891</td>\n",
       "      <td>False</td>\n",
       "    </tr>\n",
       "    <tr>\n",
       "      <th>3</th>\n",
       "      <td>2022-07-11 22:50:36+00:00</td>\n",
       "      <td>bogachanbilge</td>\n",
       "      <td>#sasa #bist Muğla Sıtkı Koçman Üniv. Rektörlüğ...</td>\n",
       "      <td>1</td>\n",
       "      <td>66</td>\n",
       "      <td>19891</td>\n",
       "      <td>False</td>\n",
       "    </tr>\n",
       "    <tr>\n",
       "      <th>4</th>\n",
       "      <td>2022-07-11 22:40:20+00:00</td>\n",
       "      <td>bogachanbilge</td>\n",
       "      <td>#sasa #bist Dokuz Eylül Üniversitesi Rektörü h...</td>\n",
       "      <td>0</td>\n",
       "      <td>101</td>\n",
       "      <td>19891</td>\n",
       "      <td>False</td>\n",
       "    </tr>\n",
       "  </tbody>\n",
       "</table>\n",
       "</div>"
      ],
      "text/plain": [
       "                        date           user  \\\n",
       "0  2022-07-11 22:59:23+00:00    uurnikbay__   \n",
       "1  2022-07-11 22:57:45+00:00    uurnikbay__   \n",
       "2  2022-07-11 22:57:25+00:00  bogachanbilge   \n",
       "3  2022-07-11 22:50:36+00:00  bogachanbilge   \n",
       "4  2022-07-11 22:40:20+00:00  bogachanbilge   \n",
       "\n",
       "                                               tweet  rt  fav  followers  \\\n",
       "0  Ben mart-nisan 2023 ayında #EREGL  de 44 tl fi...   0    2          1   \n",
       "1  #EREGL yaklaşık 4000 bin lotla\\n#TURSG yaklaşı...   0    2          1   \n",
       "2  #sasa #bist fettöşçüler, bulaşıklığı olanlar, ...   7  274      19891   \n",
       "3  #sasa #bist Muğla Sıtkı Koçman Üniv. Rektörlüğ...   1   66      19891   \n",
       "4  #sasa #bist Dokuz Eylül Üniversitesi Rektörü h...   0  101      19891   \n",
       "\n",
       "   verified  \n",
       "0     False  \n",
       "1     False  \n",
       "2     False  \n",
       "3     False  \n",
       "4     False  "
      ]
     },
     "execution_count": 17,
     "metadata": {},
     "output_type": "execute_result"
    }
   ],
   "source": [
    "df = pd.read_csv('tweet.csv')\n",
    "df.head()"
   ]
  },
  {
   "cell_type": "code",
   "execution_count": 8,
   "metadata": {},
   "outputs": [
    {
     "name": "stdout",
     "output_type": "stream",
     "text": [
      "<class 'pandas.core.frame.DataFrame'>\n",
      "RangeIndex: 216526 entries, 0 to 216525\n",
      "Data columns (total 7 columns):\n",
      " #   Column     Non-Null Count   Dtype \n",
      "---  ------     --------------   ----- \n",
      " 0   date       216526 non-null  object\n",
      " 1   user       216526 non-null  object\n",
      " 2   tweet      216526 non-null  object\n",
      " 3   rt         216526 non-null  int64 \n",
      " 4   fav        216526 non-null  int64 \n",
      " 5   followers  216526 non-null  int64 \n",
      " 6   verified   216526 non-null  bool  \n",
      "dtypes: bool(1), int64(3), object(3)\n",
      "memory usage: 10.1+ MB\n"
     ]
    }
   ],
   "source": [
    "df.info()"
   ]
  },
  {
   "cell_type": "code",
   "execution_count": 10,
   "metadata": {},
   "outputs": [
    {
     "data": {
      "text/plain": [
       "count    216526.000000\n",
       "mean      11823.718958\n",
       "std       40593.190177\n",
       "min           0.000000\n",
       "25%          91.000000\n",
       "50%         560.000000\n",
       "75%        4067.000000\n",
       "max      965642.000000\n",
       "Name: followers, dtype: float64"
      ]
     },
     "execution_count": 10,
     "metadata": {},
     "output_type": "execute_result"
    }
   ],
   "source": [
    "df['followers'].describe()"
   ]
  },
  {
   "cell_type": "code",
   "execution_count": 13,
   "metadata": {},
   "outputs": [
    {
     "data": {
      "text/plain": [
       "False    215031\n",
       "True       1495\n",
       "Name: verified, dtype: int64"
      ]
     },
     "execution_count": 13,
     "metadata": {},
     "output_type": "execute_result"
    }
   ],
   "source": [
    "df['verified'].value_counts()"
   ]
  },
  {
   "cell_type": "code",
   "execution_count": 14,
   "metadata": {},
   "outputs": [
    {
     "data": {
      "text/plain": [
       "count    216526.000000\n",
       "mean         26.141045\n",
       "std          98.225645\n",
       "min           0.000000\n",
       "25%           1.000000\n",
       "50%           3.000000\n",
       "75%          11.000000\n",
       "max        5112.000000\n",
       "Name: fav, dtype: float64"
      ]
     },
     "execution_count": 14,
     "metadata": {},
     "output_type": "execute_result"
    }
   ],
   "source": [
    "df['fav'].describe()"
   ]
  },
  {
   "cell_type": "code",
   "execution_count": 16,
   "metadata": {},
   "outputs": [
    {
     "data": {
      "text/html": [
       "<div>\n",
       "<style scoped>\n",
       "    .dataframe tbody tr th:only-of-type {\n",
       "        vertical-align: middle;\n",
       "    }\n",
       "\n",
       "    .dataframe tbody tr th {\n",
       "        vertical-align: top;\n",
       "    }\n",
       "\n",
       "    .dataframe thead th {\n",
       "        text-align: right;\n",
       "    }\n",
       "</style>\n",
       "<table border=\"1\" class=\"dataframe\">\n",
       "  <thead>\n",
       "    <tr style=\"text-align: right;\">\n",
       "      <th></th>\n",
       "      <th>date</th>\n",
       "      <th>user</th>\n",
       "      <th>tweet</th>\n",
       "      <th>rt</th>\n",
       "      <th>fav</th>\n",
       "      <th>followers</th>\n",
       "      <th>verified</th>\n",
       "    </tr>\n",
       "  </thead>\n",
       "  <tbody>\n",
       "    <tr>\n",
       "      <th>0</th>\n",
       "      <td>2020-12-31 23:58:46+00:00</td>\n",
       "      <td>SessizBorsa</td>\n",
       "      <td>#EMKEL sermayesinin 6 katı kadar iş anlaşması ...</td>\n",
       "      <td>2</td>\n",
       "      <td>2</td>\n",
       "      <td>0</td>\n",
       "      <td>False</td>\n",
       "    </tr>\n",
       "    <tr>\n",
       "      <th>1</th>\n",
       "      <td>2020-12-31 23:28:27+00:00</td>\n",
       "      <td>formasyonavcisi</td>\n",
       "      <td>#XU100 \\n#XU100 #XU030 #BIST100 #BIST30 https:...</td>\n",
       "      <td>0</td>\n",
       "      <td>0</td>\n",
       "      <td>264</td>\n",
       "      <td>False</td>\n",
       "    </tr>\n",
       "    <tr>\n",
       "      <th>2</th>\n",
       "      <td>2020-12-31 23:22:02+00:00</td>\n",
       "      <td>TraderKartal</td>\n",
       "      <td>#alark #gubrf #krdmd hep hayıflandım izlerken....</td>\n",
       "      <td>0</td>\n",
       "      <td>6</td>\n",
       "      <td>459</td>\n",
       "      <td>False</td>\n",
       "    </tr>\n",
       "    <tr>\n",
       "      <th>3</th>\n",
       "      <td>2020-12-31 23:16:29+00:00</td>\n",
       "      <td>TraderKartal</td>\n",
       "      <td>#sise #ttkom #oyakc ve #orge eklemek istedikle...</td>\n",
       "      <td>1</td>\n",
       "      <td>1</td>\n",
       "      <td>459</td>\n",
       "      <td>False</td>\n",
       "    </tr>\n",
       "    <tr>\n",
       "      <th>4</th>\n",
       "      <td>2020-12-31 23:13:21+00:00</td>\n",
       "      <td>TraderKartal</td>\n",
       "      <td>Borsada kazandıklarımla #petkm #tuprs #tavhl #...</td>\n",
       "      <td>0</td>\n",
       "      <td>8</td>\n",
       "      <td>459</td>\n",
       "      <td>False</td>\n",
       "    </tr>\n",
       "  </tbody>\n",
       "</table>\n",
       "</div>"
      ],
      "text/plain": [
       "                        date             user  \\\n",
       "0  2020-12-31 23:58:46+00:00      SessizBorsa   \n",
       "1  2020-12-31 23:28:27+00:00  formasyonavcisi   \n",
       "2  2020-12-31 23:22:02+00:00     TraderKartal   \n",
       "3  2020-12-31 23:16:29+00:00     TraderKartal   \n",
       "4  2020-12-31 23:13:21+00:00     TraderKartal   \n",
       "\n",
       "                                               tweet  rt  fav  followers  \\\n",
       "0  #EMKEL sermayesinin 6 katı kadar iş anlaşması ...   2    2          0   \n",
       "1  #XU100 \\n#XU100 #XU030 #BIST100 #BIST30 https:...   0    0        264   \n",
       "2  #alark #gubrf #krdmd hep hayıflandım izlerken....   0    6        459   \n",
       "3  #sise #ttkom #oyakc ve #orge eklemek istedikle...   1    1        459   \n",
       "4  Borsada kazandıklarımla #petkm #tuprs #tavhl #...   0    8        459   \n",
       "\n",
       "   verified  \n",
       "0     False  \n",
       "1     False  \n",
       "2     False  \n",
       "3     False  \n",
       "4     False  "
      ]
     },
     "execution_count": 16,
     "metadata": {},
     "output_type": "execute_result"
    }
   ],
   "source": [
    "df2 = pd.read_csv('tweet_2.csv')\n",
    "df2.head()"
   ]
  },
  {
   "cell_type": "code",
   "execution_count": 18,
   "metadata": {},
   "outputs": [
    {
     "data": {
      "text/plain": [
       "False    455355\n",
       "True       4398\n",
       "Name: verified, dtype: int64"
      ]
     },
     "execution_count": 18,
     "metadata": {},
     "output_type": "execute_result"
    }
   ],
   "source": [
    "df2['verified'].value_counts()"
   ]
  },
  {
   "cell_type": "code",
   "execution_count": 19,
   "metadata": {},
   "outputs": [
    {
     "data": {
      "text/plain": [
       "0    #EMKEL sermayesinin 6 katı kadar iş anlaşması ...\n",
       "1    #XU100 \\n#XU100 #XU030 #BIST100 #BIST30 https:...\n",
       "2    #alark #gubrf #krdmd hep hayıflandım izlerken....\n",
       "3    #sise #ttkom #oyakc ve #orge eklemek istedikle...\n",
       "4    Borsada kazandıklarımla #petkm #tuprs #tavhl #...\n",
       "5    #krdmd #f_kardmd0121 viop krdmd aylık ve günlü...\n",
       "6    #THYAO #usdtry aylık baktığımızda izel çelik e...\n",
       "7            %5 devam ✅ #vestl https://t.co/Zlla2hjlUm\n",
       "8    30 ARALIK 2020 GÜNCEL TEKNİK ANALİZ YORUMLARI\\...\n",
       "9    #orge onemli olan  hisse popüler olmadan ele a...\n",
       "Name: tweet, dtype: object"
      ]
     },
     "execution_count": 19,
     "metadata": {},
     "output_type": "execute_result"
    }
   ],
   "source": [
    "df2['tweet'].head(10)"
   ]
  },
  {
   "cell_type": "code",
   "execution_count": 23,
   "metadata": {},
   "outputs": [
    {
     "data": {
      "text/plain": [
       "array([['2020-06-30 19:42:05+00:00', 'derinhisse',\n",
       "        'Açığa satış #bıst30 hisselerinde yeniden serbest. Haberi dikkatli okuyalım sadece 30 hissede serbest ! Açıkçılara hayırlı olsun . Sevinen de var üzülen de var ! Ben açık alış yada satıştan nefret eden bir yatırımcıyım. Umarım 30 hisseyle sınırlı kalır. https://t.co/Mnl2Zdd9T7',\n",
       "        ..., 1473, 226405, False],\n",
       "       ['2020-01-24 13:07:31+00:00', 'derinhisse',\n",
       "        'https://t.co/zuenx1zFya  ülkemizin en büyük grubu #kchol dijital dönüşümü anlatmış. Şimdi soru şu; Tüm dünya ve ülkemiz şirketleri dijital dönüşüme yatırım yapıyorken hala efendim teknoloji şirketleri neden artıyormuş? Dönüşümü inşaat şirketlerimi yapacak? 😆😆😆',\n",
       "        ..., 1831, 226403, False],\n",
       "       ['2020-01-22 07:23:12+00:00', 'derinhisse',\n",
       "        '#halkb son durum 👋👋👋👋👋 https://t.co/nUuSsp2yh4', ..., 1651,\n",
       "        226403, False],\n",
       "       ...,\n",
       "       ['2019-01-05 16:27:50+00:00', 'derinhisse',\n",
       "        'İğimiDün akşamki temettü konusunu okuyun #kozal https://t.co/BrBXxx4U2P',\n",
       "        ..., 160, 226406, False],\n",
       "       ['2019-01-04 23:22:24+00:00', 'derinhisse',\n",
       "        'https://t.co/yqppuHvEh9  #thyoa  Gerçekten bu şirketle gurur duyuyorum yani bazen rakamların bile yetersiz kaldığı bir durum temel analizde.Tıpkı #ASELS  gibi.',\n",
       "        ..., 199, 226406, False],\n",
       "       ['2019-01-02 16:51:24+00:00', 'derinhisse',\n",
       "        'Bu konu önemli es geçmeyin #ısctr #ıskur https://t.co/e5KqFd1Ykm',\n",
       "        ..., 401, 226406, False]], dtype=object)"
      ]
     },
     "execution_count": 23,
     "metadata": {},
     "output_type": "execute_result"
    }
   ],
   "source": [
    "# where name is algorithmahmet\n",
    "df2[df2['user'] == 'derinhisse'].values"
   ]
  },
  {
   "cell_type": "code",
   "execution_count": 26,
   "metadata": {},
   "outputs": [
    {
     "data": {
      "text/plain": [
       "24799"
      ]
     },
     "execution_count": 26,
     "metadata": {},
     "output_type": "execute_result"
    }
   ],
   "source": [
    "len(df2['user'].unique())"
   ]
  },
  {
   "cell_type": "code",
   "execution_count": 27,
   "metadata": {},
   "outputs": [
    {
     "data": {
      "text/plain": [
       "20832"
      ]
     },
     "execution_count": 27,
     "metadata": {},
     "output_type": "execute_result"
    }
   ],
   "source": [
    "len(df['user'].unique())"
   ]
  },
  {
   "cell_type": "code",
   "execution_count": 28,
   "metadata": {},
   "outputs": [
    {
     "data": {
      "text/plain": [
       "0.7692307692307693"
      ]
     },
     "execution_count": 28,
     "metadata": {},
     "output_type": "execute_result"
    }
   ],
   "source": [
    "10/13"
   ]
  },
  {
   "cell_type": "code",
   "execution_count": 33,
   "metadata": {},
   "outputs": [
    {
     "data": {
      "text/plain": [
       "0.9161573349021891"
      ]
     },
     "execution_count": 33,
     "metadata": {},
     "output_type": "execute_result"
    }
   ],
   "source": [
    "a = np.array([5,6])\n",
    "b = np.array([10,5])\n",
    "cos_sim = np.dot(a, b)/(np.linalg.norm(a)*np.linalg.norm(b))\n",
    "cos_sim"
   ]
  },
  {
   "cell_type": "code",
   "execution_count": 37,
   "metadata": {},
   "outputs": [
    {
     "data": {
      "text/plain": [
       "0.8502651466878618"
      ]
     },
     "execution_count": 37,
     "metadata": {},
     "output_type": "execute_result"
    }
   ],
   "source": [
    "a = np.array([3,1])\n",
    "b = np.array([5,6])\n",
    "cos_sim = np.dot(a, b)/(np.linalg.norm(a)*np.linalg.norm(b))\n",
    "cos_sim"
   ]
  },
  {
   "cell_type": "code",
   "execution_count": 38,
   "metadata": {},
   "outputs": [
    {
     "data": {
      "text/html": [
       "<div>\n",
       "<style scoped>\n",
       "    .dataframe tbody tr th:only-of-type {\n",
       "        vertical-align: middle;\n",
       "    }\n",
       "\n",
       "    .dataframe tbody tr th {\n",
       "        vertical-align: top;\n",
       "    }\n",
       "\n",
       "    .dataframe thead th {\n",
       "        text-align: right;\n",
       "    }\n",
       "</style>\n",
       "<table border=\"1\" class=\"dataframe\">\n",
       "  <thead>\n",
       "    <tr style=\"text-align: right;\">\n",
       "      <th></th>\n",
       "      <th>date</th>\n",
       "      <th>user</th>\n",
       "      <th>tweet</th>\n",
       "      <th>rt</th>\n",
       "      <th>fav</th>\n",
       "      <th>followers</th>\n",
       "      <th>verified</th>\n",
       "    </tr>\n",
       "  </thead>\n",
       "  <tbody>\n",
       "    <tr>\n",
       "      <th>0</th>\n",
       "      <td>2022-07-11 22:59:23+00:00</td>\n",
       "      <td>uurnikbay__</td>\n",
       "      <td>Ben mart-nisan 2023 ayında #EREGL  de 44 tl fi...</td>\n",
       "      <td>0</td>\n",
       "      <td>2</td>\n",
       "      <td>1</td>\n",
       "      <td>False</td>\n",
       "    </tr>\n",
       "    <tr>\n",
       "      <th>1</th>\n",
       "      <td>2022-07-11 22:57:45+00:00</td>\n",
       "      <td>uurnikbay__</td>\n",
       "      <td>#EREGL yaklaşık 4000 bin lotla\\n#TURSG yaklaşı...</td>\n",
       "      <td>0</td>\n",
       "      <td>2</td>\n",
       "      <td>1</td>\n",
       "      <td>False</td>\n",
       "    </tr>\n",
       "    <tr>\n",
       "      <th>2</th>\n",
       "      <td>2022-07-11 22:57:25+00:00</td>\n",
       "      <td>bogachanbilge</td>\n",
       "      <td>#sasa #bist fettöşçüler, bulaşıklığı olanlar, ...</td>\n",
       "      <td>7</td>\n",
       "      <td>274</td>\n",
       "      <td>19891</td>\n",
       "      <td>False</td>\n",
       "    </tr>\n",
       "    <tr>\n",
       "      <th>3</th>\n",
       "      <td>2022-07-11 22:50:36+00:00</td>\n",
       "      <td>bogachanbilge</td>\n",
       "      <td>#sasa #bist Muğla Sıtkı Koçman Üniv. Rektörlüğ...</td>\n",
       "      <td>1</td>\n",
       "      <td>66</td>\n",
       "      <td>19891</td>\n",
       "      <td>False</td>\n",
       "    </tr>\n",
       "    <tr>\n",
       "      <th>4</th>\n",
       "      <td>2022-07-11 22:40:20+00:00</td>\n",
       "      <td>bogachanbilge</td>\n",
       "      <td>#sasa #bist Dokuz Eylül Üniversitesi Rektörü h...</td>\n",
       "      <td>0</td>\n",
       "      <td>101</td>\n",
       "      <td>19891</td>\n",
       "      <td>False</td>\n",
       "    </tr>\n",
       "  </tbody>\n",
       "</table>\n",
       "</div>"
      ],
      "text/plain": [
       "                        date           user  \\\n",
       "0  2022-07-11 22:59:23+00:00    uurnikbay__   \n",
       "1  2022-07-11 22:57:45+00:00    uurnikbay__   \n",
       "2  2022-07-11 22:57:25+00:00  bogachanbilge   \n",
       "3  2022-07-11 22:50:36+00:00  bogachanbilge   \n",
       "4  2022-07-11 22:40:20+00:00  bogachanbilge   \n",
       "\n",
       "                                               tweet  rt  fav  followers  \\\n",
       "0  Ben mart-nisan 2023 ayında #EREGL  de 44 tl fi...   0    2          1   \n",
       "1  #EREGL yaklaşık 4000 bin lotla\\n#TURSG yaklaşı...   0    2          1   \n",
       "2  #sasa #bist fettöşçüler, bulaşıklığı olanlar, ...   7  274      19891   \n",
       "3  #sasa #bist Muğla Sıtkı Koçman Üniv. Rektörlüğ...   1   66      19891   \n",
       "4  #sasa #bist Dokuz Eylül Üniversitesi Rektörü h...   0  101      19891   \n",
       "\n",
       "   verified  \n",
       "0     False  \n",
       "1     False  \n",
       "2     False  \n",
       "3     False  \n",
       "4     False  "
      ]
     },
     "execution_count": 38,
     "metadata": {},
     "output_type": "execute_result"
    }
   ],
   "source": [
    "df.head()"
   ]
  },
  {
   "cell_type": "code",
   "execution_count": 39,
   "metadata": {},
   "outputs": [],
   "source": [
    "# add empty categorical column to df named label categorical sentiment\n",
    "df['label'] = ''"
   ]
  },
  {
   "cell_type": "code",
   "execution_count": 40,
   "metadata": {},
   "outputs": [
    {
     "data": {
      "text/html": [
       "<div>\n",
       "<style scoped>\n",
       "    .dataframe tbody tr th:only-of-type {\n",
       "        vertical-align: middle;\n",
       "    }\n",
       "\n",
       "    .dataframe tbody tr th {\n",
       "        vertical-align: top;\n",
       "    }\n",
       "\n",
       "    .dataframe thead th {\n",
       "        text-align: right;\n",
       "    }\n",
       "</style>\n",
       "<table border=\"1\" class=\"dataframe\">\n",
       "  <thead>\n",
       "    <tr style=\"text-align: right;\">\n",
       "      <th></th>\n",
       "      <th>date</th>\n",
       "      <th>user</th>\n",
       "      <th>tweet</th>\n",
       "      <th>rt</th>\n",
       "      <th>fav</th>\n",
       "      <th>followers</th>\n",
       "      <th>verified</th>\n",
       "      <th>label</th>\n",
       "    </tr>\n",
       "  </thead>\n",
       "  <tbody>\n",
       "    <tr>\n",
       "      <th>0</th>\n",
       "      <td>2022-07-11 22:59:23+00:00</td>\n",
       "      <td>uurnikbay__</td>\n",
       "      <td>Ben mart-nisan 2023 ayında #EREGL  de 44 tl fi...</td>\n",
       "      <td>0</td>\n",
       "      <td>2</td>\n",
       "      <td>1</td>\n",
       "      <td>False</td>\n",
       "      <td></td>\n",
       "    </tr>\n",
       "    <tr>\n",
       "      <th>1</th>\n",
       "      <td>2022-07-11 22:57:45+00:00</td>\n",
       "      <td>uurnikbay__</td>\n",
       "      <td>#EREGL yaklaşık 4000 bin lotla\\n#TURSG yaklaşı...</td>\n",
       "      <td>0</td>\n",
       "      <td>2</td>\n",
       "      <td>1</td>\n",
       "      <td>False</td>\n",
       "      <td></td>\n",
       "    </tr>\n",
       "    <tr>\n",
       "      <th>2</th>\n",
       "      <td>2022-07-11 22:57:25+00:00</td>\n",
       "      <td>bogachanbilge</td>\n",
       "      <td>#sasa #bist fettöşçüler, bulaşıklığı olanlar, ...</td>\n",
       "      <td>7</td>\n",
       "      <td>274</td>\n",
       "      <td>19891</td>\n",
       "      <td>False</td>\n",
       "      <td></td>\n",
       "    </tr>\n",
       "    <tr>\n",
       "      <th>3</th>\n",
       "      <td>2022-07-11 22:50:36+00:00</td>\n",
       "      <td>bogachanbilge</td>\n",
       "      <td>#sasa #bist Muğla Sıtkı Koçman Üniv. Rektörlüğ...</td>\n",
       "      <td>1</td>\n",
       "      <td>66</td>\n",
       "      <td>19891</td>\n",
       "      <td>False</td>\n",
       "      <td></td>\n",
       "    </tr>\n",
       "    <tr>\n",
       "      <th>4</th>\n",
       "      <td>2022-07-11 22:40:20+00:00</td>\n",
       "      <td>bogachanbilge</td>\n",
       "      <td>#sasa #bist Dokuz Eylül Üniversitesi Rektörü h...</td>\n",
       "      <td>0</td>\n",
       "      <td>101</td>\n",
       "      <td>19891</td>\n",
       "      <td>False</td>\n",
       "      <td></td>\n",
       "    </tr>\n",
       "  </tbody>\n",
       "</table>\n",
       "</div>"
      ],
      "text/plain": [
       "                        date           user  \\\n",
       "0  2022-07-11 22:59:23+00:00    uurnikbay__   \n",
       "1  2022-07-11 22:57:45+00:00    uurnikbay__   \n",
       "2  2022-07-11 22:57:25+00:00  bogachanbilge   \n",
       "3  2022-07-11 22:50:36+00:00  bogachanbilge   \n",
       "4  2022-07-11 22:40:20+00:00  bogachanbilge   \n",
       "\n",
       "                                               tweet  rt  fav  followers  \\\n",
       "0  Ben mart-nisan 2023 ayında #EREGL  de 44 tl fi...   0    2          1   \n",
       "1  #EREGL yaklaşık 4000 bin lotla\\n#TURSG yaklaşı...   0    2          1   \n",
       "2  #sasa #bist fettöşçüler, bulaşıklığı olanlar, ...   7  274      19891   \n",
       "3  #sasa #bist Muğla Sıtkı Koçman Üniv. Rektörlüğ...   1   66      19891   \n",
       "4  #sasa #bist Dokuz Eylül Üniversitesi Rektörü h...   0  101      19891   \n",
       "\n",
       "   verified label  \n",
       "0     False        \n",
       "1     False        \n",
       "2     False        \n",
       "3     False        \n",
       "4     False        "
      ]
     },
     "execution_count": 40,
     "metadata": {},
     "output_type": "execute_result"
    }
   ],
   "source": [
    "df.head()"
   ]
  },
  {
   "cell_type": "code",
   "execution_count": 41,
   "metadata": {},
   "outputs": [],
   "source": [
    "# write to csv file\n",
    "df.to_csv('data.csv', index=False)"
   ]
  },
  {
   "cell_type": "code",
   "execution_count": 43,
   "metadata": {},
   "outputs": [
    {
     "data": {
      "text/plain": [
       "4694"
      ]
     },
     "execution_count": 43,
     "metadata": {},
     "output_type": "execute_result"
    }
   ],
   "source": [
    "len(df[df['followers'] > 100000])"
   ]
  },
  {
   "cell_type": "code",
   "execution_count": 44,
   "metadata": {},
   "outputs": [],
   "source": [
    "new_df = df[df['followers'] > 100000]"
   ]
  },
  {
   "cell_type": "code",
   "execution_count": 45,
   "metadata": {},
   "outputs": [
    {
     "data": {
      "text/html": [
       "<div>\n",
       "<style scoped>\n",
       "    .dataframe tbody tr th:only-of-type {\n",
       "        vertical-align: middle;\n",
       "    }\n",
       "\n",
       "    .dataframe tbody tr th {\n",
       "        vertical-align: top;\n",
       "    }\n",
       "\n",
       "    .dataframe thead th {\n",
       "        text-align: right;\n",
       "    }\n",
       "</style>\n",
       "<table border=\"1\" class=\"dataframe\">\n",
       "  <thead>\n",
       "    <tr style=\"text-align: right;\">\n",
       "      <th></th>\n",
       "      <th>date</th>\n",
       "      <th>user</th>\n",
       "      <th>tweet</th>\n",
       "      <th>rt</th>\n",
       "      <th>fav</th>\n",
       "      <th>followers</th>\n",
       "      <th>verified</th>\n",
       "      <th>label</th>\n",
       "    </tr>\n",
       "  </thead>\n",
       "  <tbody>\n",
       "    <tr>\n",
       "      <th>43</th>\n",
       "      <td>2022-07-11 13:38:08+00:00</td>\n",
       "      <td>borsaparatic</td>\n",
       "      <td>Yıl 2020  Bist100 tarafında bilanço dönemi ve ...</td>\n",
       "      <td>17</td>\n",
       "      <td>180</td>\n",
       "      <td>220342</td>\n",
       "      <td>False</td>\n",
       "      <td></td>\n",
       "    </tr>\n",
       "    <tr>\n",
       "      <th>132</th>\n",
       "      <td>2022-07-10 10:16:06+00:00</td>\n",
       "      <td>ibrahim___ethem</td>\n",
       "      <td>Bloomberg Businessweek’in 3 Temmuz tarihli öze...</td>\n",
       "      <td>20</td>\n",
       "      <td>343</td>\n",
       "      <td>136873</td>\n",
       "      <td>False</td>\n",
       "      <td></td>\n",
       "    </tr>\n",
       "    <tr>\n",
       "      <th>156</th>\n",
       "      <td>2022-07-09 20:53:12+00:00</td>\n",
       "      <td>ASIM_YALCINKAYA</td>\n",
       "      <td>en UCUZ #BIST 100 #hisse'leri\\n#SAHOL 18,68&amp;gt...</td>\n",
       "      <td>107</td>\n",
       "      <td>934</td>\n",
       "      <td>138759</td>\n",
       "      <td>False</td>\n",
       "      <td></td>\n",
       "    </tr>\n",
       "    <tr>\n",
       "      <th>161</th>\n",
       "      <td>2022-07-09 19:44:59+00:00</td>\n",
       "      <td>ibrahim___ethem</td>\n",
       "      <td>Kısa notlarımı paylaşmaya başlıyorum.\\nBayramd...</td>\n",
       "      <td>134</td>\n",
       "      <td>1529</td>\n",
       "      <td>136873</td>\n",
       "      <td>False</td>\n",
       "      <td></td>\n",
       "    </tr>\n",
       "    <tr>\n",
       "      <th>192</th>\n",
       "      <td>2022-07-09 07:01:24+00:00</td>\n",
       "      <td>ibrahim___ethem</td>\n",
       "      <td>📍İstanbul Havalimanı dün tarihinin en yüksek u...</td>\n",
       "      <td>23</td>\n",
       "      <td>379</td>\n",
       "      <td>136873</td>\n",
       "      <td>False</td>\n",
       "      <td></td>\n",
       "    </tr>\n",
       "  </tbody>\n",
       "</table>\n",
       "</div>"
      ],
      "text/plain": [
       "                          date             user  \\\n",
       "43   2022-07-11 13:38:08+00:00     borsaparatic   \n",
       "132  2022-07-10 10:16:06+00:00  ibrahim___ethem   \n",
       "156  2022-07-09 20:53:12+00:00  ASIM_YALCINKAYA   \n",
       "161  2022-07-09 19:44:59+00:00  ibrahim___ethem   \n",
       "192  2022-07-09 07:01:24+00:00  ibrahim___ethem   \n",
       "\n",
       "                                                 tweet   rt   fav  followers  \\\n",
       "43   Yıl 2020  Bist100 tarafında bilanço dönemi ve ...   17   180     220342   \n",
       "132  Bloomberg Businessweek’in 3 Temmuz tarihli öze...   20   343     136873   \n",
       "156  en UCUZ #BIST 100 #hisse'leri\\n#SAHOL 18,68&gt...  107   934     138759   \n",
       "161  Kısa notlarımı paylaşmaya başlıyorum.\\nBayramd...  134  1529     136873   \n",
       "192  📍İstanbul Havalimanı dün tarihinin en yüksek u...   23   379     136873   \n",
       "\n",
       "     verified label  \n",
       "43      False        \n",
       "132     False        \n",
       "156     False        \n",
       "161     False        \n",
       "192     False        "
      ]
     },
     "execution_count": 45,
     "metadata": {},
     "output_type": "execute_result"
    }
   ],
   "source": [
    "new_df.head()"
   ]
  },
  {
   "cell_type": "code",
   "execution_count": 46,
   "metadata": {},
   "outputs": [],
   "source": [
    "new_df.to_csv('data_2.csv', index=False)"
   ]
  },
  {
   "cell_type": "code",
   "execution_count": null,
   "metadata": {},
   "outputs": [],
   "source": []
  }
 ],
 "metadata": {
  "kernelspec": {
   "display_name": "Python 3.9.12 ('nlp')",
   "language": "python",
   "name": "python3"
  },
  "language_info": {
   "codemirror_mode": {
    "name": "ipython",
    "version": 3
   },
   "file_extension": ".py",
   "mimetype": "text/x-python",
   "name": "python",
   "nbconvert_exporter": "python",
   "pygments_lexer": "ipython3",
   "version": "3.9.12"
  },
  "orig_nbformat": 4,
  "vscode": {
   "interpreter": {
    "hash": "7ced0d4996006a4bbd3750241b3ccf54757ddd4d29affce47053bc3d5ef11692"
   }
  }
 },
 "nbformat": 4,
 "nbformat_minor": 2
}
